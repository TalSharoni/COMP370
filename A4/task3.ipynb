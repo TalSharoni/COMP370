{
 "cells": [
  {
   "cell_type": "code",
   "execution_count": 1,
   "id": "dc1cc9c9",
   "metadata": {},
   "outputs": [],
   "source": [
    "import pandas as pd\n",
    "import borough_complaints\n",
    "import matplotlib.pyplot as plt\n",
    "import sys"
   ]
  },
  {
   "cell_type": "code",
   "execution_count": 2,
   "id": "c8f3127c",
   "metadata": {},
   "outputs": [],
   "source": [
    "sys.argv = ['borough_complaints.py', '-i', 'filtered_nyc311.csv', '-s', '01-01-2020', '-e', '02-29-2020', '-o', 'Jan-Feb.csv']\n",
    "borough_complaints.main()"
   ]
  },
  {
   "cell_type": "code",
   "execution_count": 3,
   "id": "1fc582f8",
   "metadata": {},
   "outputs": [],
   "source": [
    "sys.argv = ['borough_complaints.py', '-i', 'filtered_nyc311.csv', '-s', '06-01-2020', '-e', '07-31-2020', '-o', 'Jun-Jul.csv']\n",
    "borough_complaints.main()"
   ]
  },
  {
   "cell_type": "code",
   "execution_count": 4,
   "id": "aed068f5",
   "metadata": {},
   "outputs": [],
   "source": [
    "jan_feb = pd.read_csv('Jan-Feb.csv')\n",
    "jun_jul = pd.read_csv('Jun-Jul.csv')"
   ]
  },
  {
   "cell_type": "code",
   "execution_count": 6,
   "id": "af76c9e2",
   "metadata": {},
   "outputs": [
    {
     "name": "stdout",
     "output_type": "stream",
     "text": [
      "Most abundant complaint type in Jan-Feb 2020: heat/hot water\n"
     ]
    }
   ],
   "source": [
    "jan_feb_grouped = jan_feb.groupby('type')['count'].sum().reset_index()\n",
    "jun_jul_grouped = jun_jul.groupby('type')['count'].sum().reset_index()\n",
    "\n",
    "most_common = jan_feb_grouped.loc[jan_feb_grouped['count'].idxmax()]\n",
    "complaint = most_common['type']\n",
    "print(f'Most abundant complaint type in Jan-Feb 2020: {complaint}')"
   ]
  },
  {
   "cell_type": "code",
   "execution_count": 7,
   "id": "0869826b",
   "metadata": {},
   "outputs": [
    {
     "data": {
      "text/plain": [
       "Text(0, 0.5, 'Number of Complaints')"
      ]
     },
     "execution_count": 7,
     "metadata": {},
     "output_type": "execute_result"
    },
    {
     "data": {
      "image/png": "[encoded data removed]",
      "text/plain": [
       "<Figure size 432x288 with 1 Axes>"
      ]
     },
     "metadata": {
      "needs_background": "light"
     },
     "output_type": "display_data"
    }
   ],
   "source": [
    "jan_feb_count = jan_feb_grouped[jan_feb_grouped['type'] == complaint]['count'].sum()\n",
    "jun_jul_count = jun_jul_grouped[jun_jul_grouped['type'] == complaint]['count'].sum()\n",
    "\n",
    "labels = ['Jan-Feb 2020', 'Jun-Jul 2020']\n",
    "counts = [jan_feb_count, jun_jul_count]\n",
    "plt.bar(labels, counts)\n",
    "plt.title(f'{complaint} Complaints during Jan-Feb 2020 and Jun-Jul 2020')\n",
    "plt.ylabel('Number of Complaints')"
   ]
  },
  {
   "cell_type": "code",
   "execution_count": 8,
   "id": "bfff0cbf",
   "metadata": {},
   "outputs": [
    {
     "name": "stdout",
     "output_type": "stream",
     "text": [
      "[27841, 2652]\n"
     ]
    }
   ],
   "source": [
    "print(counts)"
   ]
  },
  {
   "cell_type": "markdown",
   "id": "230be8a5",
   "metadata": {},
   "source": [
    "This analysis revealed that the most common complaint type (heat/hot water) was much more common in Jan-Feb over Jun-Jul, by a large amount. In Jan-Feb it's 27841, while in June-July it's only 2652. Probably because during summer there is less of a need for hot water. This indicates that there is a significant shortage of heat and hot water in NYC during winter. "
   ]
  }
 ],
 "metadata": {
  "kernelspec": {
   "display_name": "Python 3 (ipykernel)",
   "language": "python",
   "name": "python3"
  },
  "language_info": {
   "codemirror_mode": {
    "name": "ipython",
    "version": 3
   },
   "file_extension": ".py",
   "mimetype": "text/x-python",
   "name": "python",
   "nbconvert_exporter": "python",
   "pygments_lexer": "ipython3",
   "version": "3.10.12"
  }
 },
 "nbformat": 4,
 "nbformat_minor": 5
}
